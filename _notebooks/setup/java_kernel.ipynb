{
 "cells": [
  {
   "cell_type": "code",
   "execution_count": null,
   "id": "54c89cca",
   "metadata": {
    "vscode": {
     "languageId": "java"
    }
   },
   "outputs": [],
   "source": [
    "public class Fibonacci {    \n",
    "    // Recursive approach (simple but slower for large n)\n",
    "    public static long fibonacci(int n) {\n",
    "        if (n <= 1) {\n",
    "            return n;\n",
    "        }\n",
    "        return fibonacci(n - 1) + fibonacci(n - 2);\n",
    "    }\n",
    "}"
   ]
  },
  {
   "cell_type": "code",
   "execution_count": 7,
   "id": "bddccec4",
   "metadata": {
    "vscode": {
     "languageId": "java"
    }
   },
   "outputs": [
    {
     "name": "stdout",
     "output_type": "stream",
     "text": [
      "Fibonacci(10) = 55\n"
     ]
    }
   ],
   "source": [
    "long fib10 = Fibonacci.fibonacci(10);\n",
    "System.out.println(\"Fibonacci(10) = \" + fib10);"
   ]
  },
  {
   "cell_type": "code",
   "execution_count": null,
   "id": "0bb039cd",
   "metadata": {
    "vscode": {
     "languageId": "java"
    }
   },
   "outputs": [],
   "source": []
  }
 ],
 "metadata": {
  "kernelspec": {
   "display_name": "Java",
   "language": "java",
   "name": "java"
  },
  "language_info": {
   "codemirror_mode": "java",
   "file_extension": ".jshell",
   "mimetype": "text/x-java-source",
   "name": "Java",
   "pygments_lexer": "java",
   "version": "25"
  }
 },
 "nbformat": 4,
 "nbformat_minor": 5
}
