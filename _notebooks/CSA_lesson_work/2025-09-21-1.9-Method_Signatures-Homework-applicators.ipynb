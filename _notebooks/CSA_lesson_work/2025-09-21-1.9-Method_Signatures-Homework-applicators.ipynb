{
  "cells": [
    {
      "cell_type": "markdown",
      "metadata": {},
      "source": [
        "---\n",
        "layout: post\n",
        "toc: true\n",
        "title: Method Signatures — Homework (1.9)\n",
        "menu: nav/CSA_Nunits/csaunit1.html\n",
        "permalink: /csa/unit_01/1_9_hw\n",
        "author: Aashray, Sai, Manas\n",
        "---\n"
      ]
    },
    {
      "cell_type": "markdown",
      "metadata": {},
      "source": [
        "## AP CSA 1.9 — Method Signatures: Homework\n",
        "\n",
        "Complete all parts. Submit this executed notebook on GitHub Pages and answer MCQs on the Google Form.\n"
      ]
    },
    {
      "cell_type": "markdown",
      "metadata": {},
      "source": [
        "### MCQs\n",
        "1) Which pair is a valid overload?\n",
        "- A) `int f(int a)` and `int f(int x)`\n",
        "- B) `int f(int a)` and `double f(int a)`\n",
        "- C) `int f(int a)` and `double f(double a)`\n",
        "- D) `int f(int a, int b)` and `int f(int a, int b)`\n",
        "\n",
        "2) Which is the AP CSA notion of a method signature?\n",
        "- A) `public static int max(int a, int b)`\n",
        "- B) `max(int, int)`\n",
        "- C) `max(int a, int b) throws Exception`\n",
        "- D) `max(int, double)`\n",
        "\n",
        "3) With the overloads `void p(int x)` and `void p(double x)`, what prints?\n",
        "```java\n",
        "p(5);\n",
        "p(5.0);\n",
        "```\n",
        "- A) `int`, `double`\n",
        "- B) `double`, `double`\n",
        "- C) `int`, `int`\n",
        "- D) Compile error\n",
        "\n",
        "4) Which call is ambiguous with only these two methods?\n",
        "```java\n",
        "void h(long x) {}\n",
        "void h(float x) {}\n",
        "```\n",
        "- A) `h(5)`\n",
        "- B) `h(5.0)`\n",
        "- C) `h(5f)`\n",
        "- D) None are ambiguous\n",
        "\n",
        "5) Which statement is TRUE?\n",
        "- A) Parameter names affect the method signature.\n",
        "- B) Return type affects the method signature.\n",
        "- C) Access modifiers affect the method signature.\n",
        "- D) Overloading requires different parameter lists.\n"
      ]
    },
    {
      "cell_type": "markdown",
      "metadata": {},
      "source": [
        "### MCQ Answers\n",
        "\n",
        "1. C\n",
        "2. B\n",
        "3. A\n",
        "4. A\n",
        "5. D"
      ]
    },
    {
      "cell_type": "markdown",
      "metadata": {},
      "source": [
        "### Short answer\n",
        "- Explain why `int sum(int a, int b)` and `double sum(int a, int b)` cannot both exist.\n",
        "- In one sentence, distinguish parameters vs arguments.\n"
      ]
    },
    {
      "cell_type": "markdown",
      "metadata": {},
      "source": [
        "###  Short Answer Response\n",
        "\n",
        "**1.** `int sum(int a, int b)` and `double sum(int a, int b)` cannot both exist because they have **identical parameter lists**, so their **method signatures are the same** — return type alone doesn’t differentiate overloads.\n",
        "\n",
        "---\n",
        "\n",
        "**2.** **Parameters** are the variables defined in a method’s header, while **arguments** are the actual values passed into the method when it’s called.\n"
      ]
    },
    {
      "cell_type": "markdown",
      "metadata": {},
      "source": [
        "### Coding Tasks (write Java in code blocks; pseudo-Java acceptable)\n",
        "1) Write three overloads of `abs`: `int abs(int x)`, `double abs(double x)`, and `long abs(long x)`.\n",
        "2) Implement two overloads of `concat`:\n",
        "   - `String concat(String a, String b)` returns concatenation.\n",
        "   - `String concat(String a, int n)` returns `a` repeated `n` times.\n",
        "3) Determine output:\n",
        "```java\n",
        "static void show(int x) { System.out.println(\"int\"); }\n",
        "static void show(double x) { System.out.println(\"double\"); }\n",
        "static void show(long x) { System.out.println(\"long\"); }\n",
        "\n",
        "show(7);\n",
        "show(7L);\n",
        "show(7.0);\n",
        "```\n",
        "Write the expected output and a one-line explanation for each.\n"
      ]
    },
    {
      "cell_type": "markdown",
      "metadata": {},
      "source": [
        "### Coding Tasks Answers\n",
        "\n",
        "**1)** Write three overloads of `abs`: `int abs(int x)`, `double abs(double x)`, and `long abs(long x)`.\n",
        "\n",
        "```java\n",
        "public static int abs(int x) { return x < 0 ? -x : x; }\n",
        "public static double abs(double x) { return x < 0 ? -x : x; }\n",
        "public static long abs(long x) { return x < 0 ? -x : x; }\n"
      ]
    },
    {
      "cell_type": "markdown",
      "metadata": {},
      "source": [
        "2) Implement two overloads of `concat`:\n",
        "   - `String concat(String a, String b)` returns concatenation.\n",
        "   - `String concat(String a, int n)` returns `a` repeated `n` times."
      ]
    },
    {
      "cell_type": "code",
      "execution_count": 8,
      "metadata": {
        "vscode": {
          "languageId": "java"
        }
      },
      "outputs": [
        {
          "name": "stdout",
          "output_type": "stream",
          "text": [
            "hithere\n",
            "hahaha\n"
          ]
        }
      ],
      "source": [
        "public static String concat(String a, String b) { \n",
        "    return a + b; \n",
        "}\n",
        "\n",
        "public static String concat(String a, int n) { \n",
        "    String result = \"\";\n",
        "    for (int i = 0; i < n; i++) result += a;\n",
        "    return result;\n",
        "}\n",
        "\n",
        "System.out.println(concat(\"hi\", \"there\")); // → hithere\n",
        "System.out.println(concat(\"ha\", 3));       // → hahaha\n",
        "\n"
      ]
    },
    {
      "cell_type": "markdown",
      "metadata": {},
      "source": [
        "3) Determine output:\n",
        "```java\n",
        "static void show(int x) { System.out.println(\"int\"); }\n",
        "static void show(double x) { System.out.println(\"double\"); }\n",
        "static void show(long x) { System.out.println(\"long\"); }\n",
        "\n",
        "show(7);\n",
        "show(7L);\n",
        "show(7.0);\n",
        "```\n",
        "Write the expected output and a one-line explanation for each.\n",
        "\n",
        "**Expected Output:**\n",
        "\n",
        "int\n",
        "\n",
        "long\n",
        "\n",
        "double\n",
        "\n",
        "**Explanation:**\n",
        "- `show(7);` → `7` is an **int literal**, so it calls `show(int)`.\n",
        "- `show(7L);` → `7L` is a **long literal**, so it calls `show(long)`.\n",
        "- `show(7.0);` → `7.0` is a **double literal**, so it calls `show(double)`.\n"
      ]
    },
    {
      "cell_type": "markdown",
      "metadata": {},
      "source": [
        "### FRQ-style\n",
        "- FRQ 1. `indexOf(char target, String s)`: return the index of first `target` in `s` or `-1` if not found. Overload with `indexOf(String target, String s)` for first substring occurrence (without using library indexOf). State assumptions and constraints.\n",
        "- FRQ 2. Overload `clamp`:\n",
        "  - `int clamp(int value, int low, int high)` returns `value` confined to `[low, high]`.\n",
        "  - `double clamp(double value, double low, double high)` similarly for doubles.\n",
        "  Handle the case `low > high` by swapping.\n"
      ]
    },
    {
      "cell_type": "markdown",
      "metadata": {},
      "source": [
        "### FRQ-style\n",
        "\n",
        "**FRQ 1:**  \n",
        "`indexOf(char target, String s)` → returns the index of the first occurrence of `target` in `s`, or `-1` if not found.  \n",
        "`indexOf(String target, String s)` → returns the index of the first occurrence of substring `target` in `s`, or `-1` if not found (without using `String.indexOf()`).\n",
        "\n",
        "**Assumptions and Constraints:**\n",
        "- Inputs are non-null.\n",
        "- For the substring version, return the first match starting from the left.\n",
        "- No use of built-in `indexOf`."
      ]
    },
    {
      "cell_type": "code",
      "execution_count": 11,
      "metadata": {
        "vscode": {
          "languageId": "java"
        }
      },
      "outputs": [
        {
          "name": "stdout",
          "output_type": "stream",
          "text": [
            "1\n",
            "1\n",
            "-1\n"
          ]
        }
      ],
      "source": [
        "public static int indexOf(char target, String s) {\n",
        "    for (int i = 0; i < s.length(); i++) {\n",
        "        if (s.charAt(i) == target) return i;\n",
        "    }\n",
        "    return -1;\n",
        "}\n",
        "\n",
        "public static int indexOf(String target, String s) {\n",
        "    for (int i = 0; i <= s.length() - target.length(); i++) {\n",
        "        boolean match = true;\n",
        "        for (int j = 0; j < target.length(); j++) {\n",
        "            if (s.charAt(i + j) != target.charAt(j)) {\n",
        "                match = false;\n",
        "                break;\n",
        "            }\n",
        "        }\n",
        "        if (match) return i;\n",
        "    }\n",
        "    return -1;\n",
        "}\n",
        "\n",
        "\n",
        "System.out.println(indexOf('a', \"banana\"));  // 1\n",
        "System.out.println(indexOf(\"ana\", \"banana\")); // 1\n",
        "System.out.println(indexOf(\"xyz\", \"banana\")); // -1\n"
      ]
    },
    {
      "cell_type": "markdown",
      "metadata": {},
      "source": [
        "FRQ 2. Overload `clamp`:\n",
        "  - `int clamp(int value, int low, int high)` returns `value` confined to `[low, high]`.\n",
        "  - `double clamp(double value, double low, double high)` similarly for doubles.\n",
        "  Handle the case `low > high` by swapping.\n",
        "  "
      ]
    },
    {
      "cell_type": "code",
      "execution_count": 13,
      "metadata": {
        "vscode": {
          "languageId": "java"
        }
      },
      "outputs": [
        {
          "name": "stdout",
          "output_type": "stream",
          "text": [
            "5\n",
            "0\n",
            "3\n",
            "3.0\n"
          ]
        }
      ],
      "source": [
        "public static int clamp(int value, int low, int high) {\n",
        "    if (low > high) { int temp = low; low = high; high = temp; }\n",
        "    if (value < low) return low;\n",
        "    if (value > high) return high;\n",
        "    return value;\n",
        "}\n",
        "\n",
        "public static double clamp(double value, double low, double high) {\n",
        "    if (low > high) { double temp = low; low = high; high = temp; }\n",
        "    if (value < low) return low;\n",
        "    if (value > high) return high;\n",
        "    return value;\n",
        "}\n",
        "\n",
        "System.out.println(clamp(10, 0, 5));        // 5\n",
        "System.out.println(clamp(-2, 0, 5));        // 0\n",
        "System.out.println(clamp(3, 0, 5));         // 3\n",
        "System.out.println(clamp(3.5, 0.0, 3.0));   // 3.0 (swapped bounds)\n"
      ]
    },
    {
      "cell_type": "markdown",
      "metadata": {},
      "source": [
        "### Submission checklist\n",
        "- MCQs completed on the Google Form.\n",
        "- This notebook executes top-to-bottom with outputs visible.\n",
        "- Answers are clear and concise.\n"
      ]
    },
    {
      "cell_type": "markdown",
      "metadata": {},
      "source": []
    }
  ],
  "metadata": {
    "kernelspec": {
      "display_name": "Java",
      "language": "java",
      "name": "java"
    },
    "language_info": {
      "codemirror_mode": "java",
      "file_extension": ".jshell",
      "mimetype": "text/x-java-source",
      "name": "Java",
      "pygments_lexer": "java",
      "version": "17.0.16+0"
    }
  },
  "nbformat": 4,
  "nbformat_minor": 2
}
