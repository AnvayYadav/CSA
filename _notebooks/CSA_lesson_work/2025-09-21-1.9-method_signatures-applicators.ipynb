{
 "cells": [
  {
   "cell_type": "markdown",
   "id": "a997f6cb",
   "metadata": {},
   "source": [
    "---\n",
    "layout: post\n",
    "toc: true\n",
    "title: Method Signatures\n",
    "menu: nav/CSA_Nunits/csaunit1.html\n",
    "permalink: /csa/unit_01/1_9\n",
    "author: Aashray, Sai, Manas\n",
    "---"
   ]
  },
  {
   "cell_type": "markdown",
   "id": "32b3a894",
   "metadata": {},
   "source": [
    "## AP CSA 1.9 — Method Signatures (2025)\n",
    "\n",
    "### Introduction\n",
    "In Java, a method’s signature determines which method is called. Understanding what is and is not part of a signature is essential for reading APIs and writing overloaded methods.\n"
   ]
  },
  {
   "cell_type": "markdown",
   "id": "43eb315d",
   "metadata": {},
   "source": [
    "### Learning goals\n",
    "- Identify what constitutes a Java method signature (per AP): method name + parameter types and order.\n",
    "- Distinguish parameters vs arguments; return type is NOT part of the signature.\n",
    "- Explain method overloading and how Java selects an overload.\n",
    "- Write valid method headers and call them correctly.\n",
    "- Trace evaluation for calls with literals, variables, and expressions.\n"
   ]
  },
  {
   "cell_type": "markdown",
   "id": "2c01ae18",
   "metadata": {},
   "source": [
    "### Quick reference\n",
    "- Signature (AP scope): `methodName(type1, type2, ...)` — only name + parameter types/order.\n",
    "- Not in signature: return type, parameter names, access modifiers.\n",
    "- Overloading: same name, different parameter lists (type and/or arity and/or order).\n",
    "- Calls: arguments must be compatible with the parameter types (with standard promotions/widening allowed).\n",
    "- Return: a method declared `void` returns nothing; non-void must `return` a value of its declared type.\n",
    "- Widening at call site: `int` → `double` allowed; narrowing requires explicit cast.\n"
   ]
  },
  {
   "cell_type": "markdown",
   "id": "fa08aee7",
   "metadata": {},
   "source": [
    "### Example: runnable Java class (overloading)\n"
   ]
  },
  {
   "cell_type": "code",
   "execution_count": 24,
   "id": "9cd5f676",
   "metadata": {
    "vscode": {
     "languageId": "java"
    }
   },
   "outputs": [
    {
     "name": "stdout",
     "output_type": "stream",
     "text": [
      "7\n",
      "7.0\n",
      "6\n",
      "10\n"
     ]
    }
   ],
   "source": [
    "public class SigDemo { \n",
    "    public static int add(int a, int b) { return a + b; }          // signature: add(int, int)\n",
    "    public static double add(double a, double b) { return a + b; } // signature: add(double, double)\n",
    "    public static int add(int a) { return a + 1; }                 // signature: add(int)\n",
    "    public static int increment(int a) { return a + 1; }           // different name\n",
    "\n",
    "    public static void main(String[] args) { \n",
    "        System.out.println(add(3, 4));     // 7\n",
    "        System.out.println(add(3.0, 4));   // 7.0\n",
    "        System.out.println(add(5));        // 6\n",
    "        System.out.println(increment(9));  // 10\n",
    "    } \n",
    "}\n",
    "\n",
    "SigDemo.main(null);\n"
   ]
  },
  {
   "cell_type": "markdown",
   "id": "e58a5501",
   "metadata": {},
   "source": [
    "### What is and isn’t in a signature\n",
    "- In AP CSA scope, signature = name + parameter types and order: `name(T1, T2, ...)`.\n",
    "- NOT in signature: return type, parameter names, access modifiers, `throws` clauses.\n",
    "- Therefore, you cannot overload by changing only the return type.\n"
   ]
  },
  {
   "cell_type": "markdown",
   "id": "eb2d8940",
   "metadata": {},
   "source": [
    "### Not overloading by return type (concept)\n",
    "- Changing only the return type does not create a new signature.\n",
    "- If two methods differ only by return type and are otherwise identical, it’s a compile-time error.\n",
    "- Tip: Change parameter types/arity/order to overload correctly.\n"
   ]
  },
  {
   "cell_type": "markdown",
   "id": "601d489d",
   "metadata": {},
   "source": [
    "### Runnable example: Overload resolution with literals and variables\n",
    "\n"
   ]
  },
  {
   "cell_type": "code",
   "execution_count": 30,
   "id": "b0dae1be",
   "metadata": {
    "vscode": {
     "languageId": "java"
    }
   },
   "outputs": [
    {
     "name": "stdout",
     "output_type": "stream",
     "text": [
      "int:5\n",
      "long:5\n",
      "double:5.0\n",
      "int:7\n",
      "long:7\n",
      "double:7.0\n"
     ]
    }
   ],
   "source": [
    "public class OverloadPick { \n",
    "    static void show(int x)    { System.out.println(\"int:\" + x); } \n",
    "    static void show(double x) { System.out.println(\"double:\" + x); } \n",
    "    static void show(long x)   { System.out.println(\"long:\" + x); } \n",
    "\n",
    "    public static void main(String[] args) { \n",
    "        show(5);     // int literal → show(int)\n",
    "        show(5L);    // long literal → show(long)\n",
    "        show(5.0);   // double literal → show(double)\n",
    "        int i = 7; long L = 7L; double d = 7.0;\n",
    "        show(i); show(L); show(d);\n",
    "    } \n",
    "}\n",
    "\n",
    "OverloadPick.main(null);\n"
   ]
  },
  {
   "cell_type": "markdown",
   "id": "c6c5dbf0",
   "metadata": {},
   "source": [
    "### Ambiguity and overload selection (concept)\n",
    "- Java prefers the most specific applicable method without narrowing.\n",
    "- `int` literal can widen to `long` or convert to `float`; integral widening to `long` is typically chosen.\n",
    "- Avoid ambiguous designs: provide distinct parameter lists or cast at the call site to disambiguate.\n"
   ]
  },
  {
   "cell_type": "markdown",
   "id": "87ad0f38",
   "metadata": {},
   "source": [
    "### Popcorn Hack: Write and test max overloads\n",
    "Instructions: Implement both overloads and print results for several pairs."
   ]
  },
  {
   "cell_type": "code",
   "execution_count": 35,
   "id": "33618b60",
   "metadata": {
    "vscode": {
     "languageId": "java"
    }
   },
   "outputs": [
    {
     "name": "stdout",
     "output_type": "stream",
     "text": [
      "9\n",
      "-2\n",
      "3.5\n",
      "2.0\n"
     ]
    }
   ],
   "source": [
    "public class PopcornMax { \n",
    "    public static int max(int a, int b) { return a >= b ? a : b; } \n",
    "    public static double max(double a, double b) { return a >= b ? a : b; } \n",
    "    public static void main(String[] args) { \n",
    "        System.out.println(max(3, 9));      // 9 \n",
    "        System.out.println(max(-2, -7));    // -2 \n",
    "        System.out.println(max(3.5, 2.9));  // 3.5 \n",
    "        System.out.println(max(2, 2.0));    // picks double overload → 2.0 \n",
    "    } \n",
    "}\n",
    "\n",
    "PopcornMax.main(null);\n"
   ]
  },
  {
   "cell_type": "markdown",
   "id": "d4c50792",
   "metadata": {},
   "source": [
    "### Popcorn Hack: Overload print for int and String\n",
    "\n"
   ]
  },
  {
   "cell_type": "code",
   "execution_count": 39,
   "id": "0a38f018",
   "metadata": {
    "vscode": {
     "languageId": "java"
    }
   },
   "outputs": [
    {
     "name": "stdout",
     "output_type": "stream",
     "text": [
      "int:42\n",
      "str:hello\n",
      "str:A!\n"
     ]
    }
   ],
   "source": [
    "public class PopcornPrint { \n",
    "    static void print(int n) { System.out.println(\"int:\" + n); } \n",
    "    static void print(String s) { System.out.println(\"str:\" + s); } \n",
    "    public static void main(String[] args) { \n",
    "        print(42);          // int:42 \n",
    "        print(\"hello\");     // str:hello \n",
    "        print('A' + \"!\");   // char + String → String → str:A! \n",
    "    } \n",
    "}\n",
    "\n",
    "PopcornPrint.main(null);\n"
   ]
  },
  {
   "cell_type": "markdown",
   "id": "cc29237d",
   "metadata": {},
   "source": [
    "### Practice: predict the output (concept-only)\n",
    "- For `f(int,int)` vs `f(double,double)`, any double argument selects the double version.\n",
    "- For `g(int)` vs `g(double)`: `g(2)` → `int`, `g(2.0)` → `double`.\n",
    "- For `h(long)` vs `h(float)`: `h(5)` typically chooses `long`; `h(5f)` chooses `float`."
   ]
  },
  {
   "cell_type": "markdown",
   "id": "8475fa9f",
   "metadata": {},
   "source": [
    "### Parameter passing (concept)\n",
    "- Primitives are passed by value. Changing the parameter does not change the argument in the caller.\n",
    "- E.g., calling `bump(a)` does not modify `a` outside the method."
   ]
  },
  {
   "cell_type": "markdown",
   "id": "db66fefa",
   "metadata": {},
   "source": [
    "### FRQ-style runnable templates\n",
    "```java\n",
    "public class FrqTemplates {\n",
    "    // FRQ 1\n",
    "    public static int sumRange(int start, int end) {\n",
    "        if (start > end) return 0;\n",
    "        int sum = 0;\n",
    "        for (int n = start; n <= end; n++) sum += n;\n",
    "        return sum;\n",
    "    }\n",
    "    // FRQ 2\n",
    "    public static double area(double radius) { return Math.PI * radius * radius; }\n",
    "    public static int area(int width, int height) { return width * height; }\n",
    "    // FRQ 3\n",
    "    public static String formatScore(int earned, int total) { return earned + \"/\" + total; }\n",
    "    public static String formatScore(double percent) { return String.format(\"%.1f%%\", percent); }\n",
    "    public static void main(String[] args) {\n",
    "        System.out.println(sumRange(1, 5));     // 15\n",
    "        System.out.println(area(3.0));          // ~28.27\n",
    "        System.out.println(area(3, 4));         // 12\n",
    "        System.out.println(formatScore(45, 50));// 45/50\n",
    "        System.out.println(formatScore(92.35)); // 92.4%\n",
    "    }\n",
    "}\n",
    "```\n"
   ]
  },
  {
   "cell_type": "code",
   "execution_count": 42,
   "id": "4d73dac2",
   "metadata": {
    "vscode": {
     "languageId": "java"
    }
   },
   "outputs": [
    {
     "name": "stdout",
     "output_type": "stream",
     "text": [
      "15\n",
      "28.274333882308138\n",
      "12\n",
      "45/50\n",
      "92.4%\n"
     ]
    }
   ],
   "source": [
    "public class FrqTemplates { \n",
    "    // FRQ 1\n",
    "    public static int sumRange(int start, int end) { \n",
    "        if (start > end) return 0; \n",
    "        int sum = 0; \n",
    "        for (int n = start; n <= end; n++) sum += n; \n",
    "        return sum; \n",
    "    } \n",
    "\n",
    "    // FRQ 2\n",
    "    public static double area(double radius) { return Math.PI * radius * radius; } \n",
    "    public static int area(int width, int height) { return width * height; } \n",
    "\n",
    "    // FRQ 3\n",
    "    public static String formatScore(int earned, int total) { return earned + \"/\" + total; } \n",
    "    public static String formatScore(double percent) { return String.format(\"%.1f%%\", percent); } \n",
    "\n",
    "    public static void main(String[] args) { \n",
    "        System.out.println(sumRange(1, 5));      // 15\n",
    "        System.out.println(area(3.0));           // ~28.27\n",
    "        System.out.println(area(3, 4));          // 12\n",
    "        System.out.println(formatScore(45, 50)); // 45/50\n",
    "        System.out.println(formatScore(92.35));  // 92.4%\n",
    "    } \n",
    "}\n",
    "\n",
    "FrqTemplates.main(null);\n"
   ]
  },
  {
   "cell_type": "markdown",
   "id": "8128e0e2",
   "metadata": {},
   "source": [
    "### Anatomy of a method header (AP scope)\n",
    "- General form: `modifiers returnType name(parameterList)`\n",
    "- Signature considered in AP: `name(parameterTypesInOrder)`\n",
    "- Examples:\n",
    "  - `public static int sum(int a, int b)` → signature `sum(int,int)`\n",
    "  - `private double area(double r)` → signature `area(double)`\n",
    "\n",
    "### Overloading checklist\n",
    "- Different parameter count and/or parameter types and/or order\n",
    "- Same method name\n",
    "- Return type alone does not differentiate\n",
    "\n",
    "### Common pitfalls\n",
    "- Ambiguity between numeric types (`int`, `long`, `float`, `double`)\n",
    "- Unintended autowidening creates a different overload call than expected\n",
    "- Shadowing due to parameter names does not matter to signature\n",
    "\n",
    "### Best practices\n",
    "- Keep overloads consistent in behavior and naming\n",
    "- Prefer clear, non-ambiguous parameter lists\n",
    "- Add documentation examples showing which overload is picked\n",
    "\n",
    "### Checks for understanding\n",
    "- Identify the signature for: `static void log(String msg, int level)`\n",
    "- Which overload is called by `print(5L)` given `print(int)`, `print(long)`, `print(double)`?\n",
    "- Can `int foo(int a)` and `int foo(int x)` coexist? Why?\n",
    "\n",
    "### Exit ticket\n",
    "- Write two overloads of `distance`: `distance(int x1,int y1,int x2,int y2)` and `distance(double x1,double y1,double x2,double y2)`. State their signatures and one test call for each.\n"
   ]
  },
  {
   "cell_type": "markdown",
   "id": "95ea28d1",
   "metadata": {},
   "source": [
    "### Checks for Understanding Answers\n",
    "\n",
    "**1. Identify the signature for:**  \n",
    "`static void log(String msg, int level)`  \n",
    "- **Signature:** `log(String, int)`  \n",
    "  > The signature includes the method name and parameter types, not the return type or modifiers.\n",
    "\n",
    "\n",
    "\n",
    "**2. Which overload is called by `print(5L)` given:**  \n",
    "`print(int)`, `print(long)`, `print(double)`  \n",
    "- **Answer:** `print(long)`  \n",
    "  > Because `5L` is a long literal, Java matches it to the `print(long)` overload.\n",
    "\n",
    "\n",
    "\n",
    "**3. Can `int foo(int a)` and `int foo(int x)` coexist? Why?**  \n",
    "- **Answer:** No  \n",
    "  > They have the **same signature** (`foo(int)`), and parameter names don’t affect overloading — only the parameter **types** and **order** matter.\n",
    "\n",
    "  \n",
    "### Exit Ticket Answer\n"
   ]
  },
  {
   "cell_type": "code",
   "execution_count": 44,
   "id": "438e6496",
   "metadata": {
    "vscode": {
     "languageId": "java"
    }
   },
   "outputs": [
    {
     "name": "stdout",
     "output_type": "stream",
     "text": [
      "5.0\n",
      "5.5\n"
     ]
    }
   ],
   "source": [
    "public class DistanceOverload {\n",
    "    // Overload #1: integers\n",
    "    public static double distance(int x1, int y1, int x2, int y2) {\n",
    "        int dx = x2 - x1;\n",
    "        int dy = y2 - y1;\n",
    "        return Math.sqrt(dx * dx + dy * dy);\n",
    "    }\n",
    "\n",
    "    // Overload #2: doubles\n",
    "    public static double distance(double x1, double y1, double x2, double y2) {\n",
    "        double dx = x2 - x1;\n",
    "        double dy = y2 - y1;\n",
    "        return Math.sqrt(dx * dx + dy * dy);\n",
    "    }\n",
    "\n",
    "    public static void main(String[] args) {\n",
    "        System.out.println(distance(0, 0, 3, 4));     // → 5.0 (int overload)\n",
    "        System.out.println(distance(1.2, 3.4, 4.5, 7.8)); // → ≈5.66 (double overload)\n",
    "    }\n",
    "}\n",
    "\n",
    "DistanceOverload.main(null);\n"
   ]
  }
 ],
 "metadata": {
  "kernelspec": {
   "display_name": "Java",
   "language": "java",
   "name": "java"
  },
  "language_info": {
   "codemirror_mode": "java",
   "file_extension": ".jshell",
   "mimetype": "text/x-java-source",
   "name": "Java",
   "pygments_lexer": "java",
   "version": "17.0.16+0"
  }
 },
 "nbformat": 4,
 "nbformat_minor": 5
}
